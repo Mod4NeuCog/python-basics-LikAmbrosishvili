{
 "cells": [
  {
   "cell_type": "code",
   "execution_count": 7,
   "id": "798742e3-2a72-4c5c-8d6f-8702f329bf4f",
   "metadata": {},
   "outputs": [
    {
     "name": "stdout",
     "output_type": "stream",
     "text": [
      "9\n",
      "[1, 3, 2, 7, 9, 4, 100]\n",
      "[3, 2, 7, 9, 4, 100]\n",
      "[2, 7, 9, 4, 100]\n"
     ]
    }
   ],
   "source": [
    "numbers = [1,3,2,7,9,4]\n",
    "print (numbers[4])\n",
    "numbers.append(100)\n",
    "print(numbers)\n",
    "del numbers[0]\n",
    "print(numbers)\n",
    "\n",
    "second = numbers.pop(0)\n",
    "print(numbers)\n",
    "\n"
   ]
  },
  {
   "cell_type": "code",
   "execution_count": 16,
   "id": "90681d33-03d0-46cc-8d81-2f71dbd3b658",
   "metadata": {},
   "outputs": [
    {
     "name": "stdout",
     "output_type": "stream",
     "text": [
      "3\n",
      "apple\n",
      "banana\n",
      "cherry\n",
      "apple\n",
      "banana\n",
      "cherry\n"
     ]
    }
   ],
   "source": [
    "thislist = [\"apple\", \"banana\", \"cherry\"]\n",
    "\n",
    "print(len(thislist))\n",
    "\n",
    "for x in thislist:\n",
    "    print(x)\n",
    "\n",
    "for i in range(len(thislist)):\n",
    "    print(thislist[i])\n",
    "    "
   ]
  },
  {
   "cell_type": "code",
   "execution_count": 21,
   "id": "77717f26-aa58-4fcf-a121-61b87c63ebf0",
   "metadata": {},
   "outputs": [
    {
     "name": "stdout",
     "output_type": "stream",
     "text": [
      "8\n"
     ]
    }
   ],
   "source": [
    "import math\n",
    "\n",
    "x = math.sqrt(64)\n",
    "print (x)"
   ]
  },
  {
   "cell_type": "code",
   "execution_count": 24,
   "id": "01004b62-840e-46c6-8f8b-36b6a2e397bf",
   "metadata": {},
   "outputs": [
    {
     "name": "stdout",
     "output_type": "stream",
     "text": [
      "3.141592653589793\n"
     ]
    }
   ],
   "source": [
    "x = math.pi\n",
    "\n",
    "print(x)"
   ]
  },
  {
   "cell_type": "code",
   "execution_count": 27,
   "id": "15f186e6-11b9-4cfa-a9f1-cbd736fd4508",
   "metadata": {},
   "outputs": [
    {
     "ename": "NameError",
     "evalue": "name 'y' is not defined",
     "output_type": "error",
     "traceback": [
      "\u001b[0;31m---------------------------------------------------------------------------\u001b[0m",
      "\u001b[0;31mNameError\u001b[0m                                 Traceback (most recent call last)",
      "Cell \u001b[0;32mIn[27], line 5\u001b[0m\n\u001b[1;32m      2\u001b[0m     y \u001b[38;5;241m=\u001b[39m \u001b[38;5;241m300\u001b[39m\n\u001b[1;32m      3\u001b[0m     \u001b[38;5;28mprint\u001b[39m(y)\n\u001b[0;32m----> 5\u001b[0m myfunc(\u001b[43my\u001b[49m)\n",
      "\u001b[0;31mNameError\u001b[0m: name 'y' is not defined"
     ]
    }
   ],
   "source": [
    "def myfunc():\n",
    "    y = 300\n",
    "    print(y)\n",
    "\n",
    "myfunc(y)\n",
    "print(y)\n"
   ]
  },
  {
   "cell_type": "code",
   "execution_count": 30,
   "id": "6406753e-8414-46a8-848a-c1dbcfef3c1b",
   "metadata": {},
   "outputs": [
    {
     "name": "stdout",
     "output_type": "stream",
     "text": [
      "200\n",
      "300\n"
     ]
    }
   ],
   "source": [
    "y= 300  #local variable\n",
    "\n",
    "def myfunc():\n",
    "    y = 200\n",
    "    print(y)\n",
    "    \n",
    "myfunc()\n",
    "print(y)"
   ]
  },
  {
   "cell_type": "code",
   "execution_count": 36,
   "id": "508a1257-e371-4105-825f-9722034b5299",
   "metadata": {},
   "outputs": [
    {
     "name": "stdout",
     "output_type": "stream",
     "text": [
      "300\n",
      "200\n"
     ]
    }
   ],
   "source": [
    "#global variable\n",
    "\n",
    "y = 300\n",
    "def myfunc():\n",
    "    global y\n",
    "    y = 200\n",
    "\n",
    "print(y) #outside of the function\n",
    "\n",
    "myfunc() \n",
    "print(y)  #access the local (global variable)\n"
   ]
  },
  {
   "cell_type": "code",
   "execution_count": 37,
   "id": "b95069bc-595f-41cf-8245-8de0e1de4e79",
   "metadata": {},
   "outputs": [
    {
     "name": "stdout",
     "output_type": "stream",
     "text": [
      "llo\n"
     ]
    }
   ],
   "source": [
    "#String slicing \n",
    "\n",
    "b = \"Hello World!\"\n",
    "print(b[2:5])"
   ]
  },
  {
   "cell_type": "code",
   "execution_count": 38,
   "id": "47ac20f1-a069-4485-b25f-d4a3162d8aa0",
   "metadata": {},
   "outputs": [
    {
     "name": "stdout",
     "output_type": "stream",
     "text": [
      "Yes, 'free' is in the text\n"
     ]
    }
   ],
   "source": [
    "txt = \"The best things in life are free!\"\n",
    "if \"free\" in txt:\n",
    "    print(\"Yes, 'free' is in the text\")"
   ]
  },
  {
   "cell_type": "code",
   "execution_count": 42,
   "id": "ba3db3d1-2f74-49f6-9b88-f491fe3bd3ae",
   "metadata": {},
   "outputs": [
    {
     "name": "stdout",
     "output_type": "stream",
     "text": [
      "HELLO, WORLD!\n",
      "hello, world!\n",
      "Jello, World!\n",
      "['Hello, World!']\n"
     ]
    }
   ],
   "source": [
    "a = \"Hello, World!\"\n",
    "print(a.upper())\n",
    "print(a.lower())\n",
    "print(a.replace(\"H\", \"J\"))\n",
    "print(a.split(\"-\"))"
   ]
  },
  {
   "cell_type": "code",
   "execution_count": 47,
   "id": "bb2495fa-6266-4743-a7e5-6928c6f4e522",
   "metadata": {},
   "outputs": [
    {
     "name": "stdout",
     "output_type": "stream",
     "text": [
      "Hello World!\n"
     ]
    }
   ],
   "source": [
    "a = \"Hello\"\n",
    "b = \"World\"\n",
    "\n",
    "print (a +\" \"+ b + \"!\")"
   ]
  },
  {
   "cell_type": "code",
   "execution_count": 68,
   "id": "13a7d052-9897-47c8-b944-0fa776579990",
   "metadata": {},
   "outputs": [
    {
     "name": "stdout",
     "output_type": "stream",
     "text": [
      "['a', 1, 'b', 2, 'c', 3]\n"
     ]
    }
   ],
   "source": [
    "#1\n",
    "\n",
    "letters = ['a', 'b', 'c']\n",
    "integers = [1, 2, 3]\n",
    "mylist = []\n",
    "def func1 (letters, integers):\n",
    "    for i in range(len(letters)):\n",
    "        mylist.append(letters[i])\n",
    "        mylist.append(integers[i])   \n",
    "        #print(mylist)\n",
    "    return mylist\n",
    "\n",
    "x=func1(letters,integers)\n",
    "print(x)"
   ]
  },
  {
   "cell_type": "code",
   "execution_count": 76,
   "id": "956c4e59-aac0-4a4d-bffb-6837afbe9b92",
   "metadata": {},
   "outputs": [
    {
     "name": "stdout",
     "output_type": "stream",
     "text": [
      " \n",
      "T\n",
      "o\n",
      " \n",
      "b\n",
      "e\n",
      " \n",
      "o\n",
      "r\n",
      " \n"
     ]
    }
   ],
   "source": [
    "#3\n",
    "\n",
    "string1 = \" To be or not to be that is the question\"\n",
    "a = len(string1.split())\n",
    "list1 = []\n",
    "listreverse = []\n",
    "\n",
    "for i in range(a):\n",
    "    list1.append(string1[i])\n",
    "    print (string1[i])\n",
    "    \n",
    "\n",
    "\n",
    "\n"
   ]
  },
  {
   "cell_type": "code",
   "execution_count": 88,
   "id": "9146f7c1-6f54-4850-9ce8-b4644d2b1cb8",
   "metadata": {},
   "outputs": [
    {
     "name": "stdout",
     "output_type": "stream",
     "text": [
      "['practice', 'python', 'coding', 'basics']\n",
      "3\n",
      "2\n",
      "1\n",
      "0\n",
      "['basics', 'coding', 'python', 'practice']\n"
     ]
    }
   ],
   "source": [
    "inp = \"practice python coding basics\"\n",
    "x= inp.split(\" \")\n",
    "print (x)\n",
    "x_len = len(x)\n",
    "newlist=[0]*x_len\n",
    "\n",
    "for i in range(len(x)):\n",
    "    print(x_len-i-1)\n",
    "    newlist[x_len-i-1] = x[i]\n",
    "print(newlist)\n",
    "    \n",
    "\n"
   ]
  },
  {
   "cell_type": "code",
   "execution_count": 102,
   "id": "3338c766-1248-4d86-9fac-e66795cfab63",
   "metadata": {},
   "outputs": [
    {
     "name": "stdout",
     "output_type": "stream",
     "text": [
      "['p', 'r', 'a', 'c', 't', 'i', 'c', 'e', 'p', 'y', 't', 'h', 'o', 'n', 'b', 'a', 's', 'i', 'c', 's']\n"
     ]
    }
   ],
   "source": [
    "string = \"practicepythonbasics\"\n",
    "\n",
    "list = []\n",
    "for letter in string:\n",
    "    list.append(letter)\n",
    "    \n",
    "print(list)"
   ]
  },
  {
   "cell_type": "code",
   "execution_count": 104,
   "id": "b1f33366-3fcc-40b3-88d9-b80ece6bda2e",
   "metadata": {},
   "outputs": [
    {
     "name": "stdout",
     "output_type": "stream",
     "text": [
      "13\n"
     ]
    }
   ],
   "source": [
    "#unique characters \n",
    "def cntDistinct(st):\n",
    "    s = set([])\n",
    " \n",
    "    for i in range(len(st)):\n",
    "        s.add(st[i])\n",
    "\n",
    "    return len(s)\n",
    "\n",
    "if __name__ == \"__main__\":\n",
    " \n",
    "    st = \"practicepythonbasics\"\n",
    "    print(cntDistinct(st))\n",
    " "
   ]
  },
  {
   "cell_type": "code",
   "execution_count": 110,
   "id": "58e81055-b45a-4567-8d51-ef99bc2c25d2",
   "metadata": {},
   "outputs": [
    {
     "name": "stdout",
     "output_type": "stream",
     "text": [
      "The lists are ideantical\n"
     ]
    }
   ],
   "source": [
    "list1 = [1, 2, 3]\n",
    "list2 = [1, 2, 3]\n",
    "\n",
    "list1.sort()\n",
    "list2.sort()\n",
    "\n",
    "if list1 == list2:\n",
    "    print(\"The lists are ideantical\")\n",
    "else:\n",
    "    print(\"The lists are not idenatical\")"
   ]
  },
  {
   "cell_type": "code",
   "execution_count": 109,
   "id": "7789b7fd-625a-4344-80ce-31335d2a4460",
   "metadata": {},
   "outputs": [
    {
     "name": "stdout",
     "output_type": "stream",
     "text": [
      "The lists are ideantical\n"
     ]
    }
   ],
   "source": [
    "list1 = [1, 2, 3 ]\n",
    "list2 = [1, 2, 3]\n",
    "\n",
    "list1.sort()\n",
    "list2.sort()\n",
    "\n",
    "if list1 == list2:\n",
    "    print(\"The lists are ideantical\")\n",
    "else:\n",
    "    print(\"The lists are not idenatical\")"
   ]
  }
 ],
 "metadata": {
  "kernelspec": {
   "display_name": "Python 3 (ipykernel)",
   "language": "python",
   "name": "python3"
  },
  "language_info": {
   "codemirror_mode": {
    "name": "ipython",
    "version": 3
   },
   "file_extension": ".py",
   "mimetype": "text/x-python",
   "name": "python",
   "nbconvert_exporter": "python",
   "pygments_lexer": "ipython3",
   "version": "3.11.5"
  }
 },
 "nbformat": 4,
 "nbformat_minor": 5
}
