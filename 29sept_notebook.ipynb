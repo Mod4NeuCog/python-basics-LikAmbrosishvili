{
 "cells": [
  {
   "cell_type": "markdown",
   "id": "901e4a8f-7777-49cf-be70-2a0098860ad5",
   "metadata": {},
   "source": [
    "#Exercise 1\n",
    "\n",
    "Input: spike value  \n",
    "output: membrane potential \n",
    "\n",
    "Function: Main()\n",
    "    Simulate()\n",
    "\n",
    "Function:  Simulate()\n",
    "Declaration: float values: weight, synaptic, and V_membrane_pot = 1;\n",
    "Start: \n",
    "    calculate: weight and synaptic\n",
    "    give values to other functions\n",
    "    call Membrane_pot()\n",
    "    call Membrane_pot2()\n",
    "End:\n",
    "\n",
    "\n",
    "Function: Membrane_pot()\n",
    "Declare: membrane\n",
    "Start: \n",
    "    calculate membrane\n",
    "    print result\n",
    "End:\n",
    "\n",
    "Function: Membrane_pot2( membrane potential, synaptic, weight )\n",
    "Start:\n",
    "    Calculate: membrane potential \n",
    "    print membrane potential\n",
    "End:\n",
    "\n",
    "\n"
   ]
  },
  {
   "cell_type": "code",
   "execution_count": 1,
   "id": "c66e4c43-913f-45e8-8461-07dc507e3de6",
   "metadata": {},
   "outputs": [
    {
     "name": "stdin",
     "output_type": "stream",
     "text": [
      "Provide the input spike value in milliVolts 10\n"
     ]
    },
    {
     "name": "stdout",
     "output_type": "stream",
     "text": [
      "Inside updateMembranePotential1\n",
      "-65\n"
     ]
    },
    {
     "name": "stdin",
     "output_type": "stream",
     "text": [
      "Provide the input weights for a spike of 5mV 2\n"
     ]
    },
    {
     "name": "stdout",
     "output_type": "stream",
     "text": [
      "Inside updateMembranePotential2\n",
      "-65\n"
     ]
    }
   ],
   "source": [
    "#Exercise 2: \n",
    "\n",
    "## Define a function to update neuron membrane potential by 1 millivolt\n",
    "def updateMembranePotential1(V_mem, inputSpike):\n",
    "    print(\"Inside updateMembranePotential1\")\n",
    "    V_mem = V_mem + inputSpike\n",
    "    return(V_mem)\n",
    "\n",
    "## Define a function to update neuron membrane potential by input weights\n",
    "def updateMembranePotential2(V_mem, weight):\n",
    "    print(\"Inside updateMembranePotential2\")\n",
    "    inputSpike = 5 ##mV\n",
    "    V_mem = V_mem + weight*inputSpike\n",
    "    return(V_mem)\n",
    "\n",
    "## Define a function to simulate neuron behaviour\n",
    "def simulate(V_mem, model,weight=0, inputSpike=0):\n",
    "    if(model == 1):\n",
    "        V_mem=updateMembranePotential1(V_mem, inputSpike)\n",
    "    else:\n",
    "        V_mem=updateMembranePotential2(V_mem, weight)\n",
    "    return(V_mem)    \n",
    "\n",
    "def main():\n",
    "    ## Initialize neuron membrane potential in units milliVolts\n",
    "    V_membrane = -75\n",
    "    \n",
    "    ## Use input function to take inputs from user\n",
    "    spike=input(\"Provide the input spike value in milliVolts\")\n",
    "    \n",
    "    ## Convert the input to float\n",
    "    spike=int(spike)\n",
    "    ## Call simulate to execute model1 of neuron update\n",
    "    V_mem=simulate(V_membrane,model=1, inputSpike=spike)\n",
    "    print(V_mem)\n",
    "    \n",
    "    ## Use input function to take inputs from user\n",
    "    weight=input(\"Provide the input weights for a spike of 5mV\")\n",
    "    ## Convert the input to float\n",
    "    weight=int(weight)\n",
    "    ## Call the function updateMembranePotential to update neuron membrane potential \n",
    "    V_mem=simulate(V_membrane, model=2, weight=weight)\n",
    "    print(V_mem)\n",
    "\n",
    "# Standard boilerplate to call the main() function to begin\n",
    "# the program.\n",
    "if __name__ == '__main__':\n",
    "  main()\n"
   ]
  },
  {
   "cell_type": "markdown",
   "id": "cfbed4a4-ef05-48a5-8422-71f79e741671",
   "metadata": {},
   "source": [
    "\n",
    "#Exercise 1\n",
    "\n",
    "Input: spike value  \n",
    "output: membrane potential \n",
    "\n",
    "Function: Main()\n",
    "    Simulate()\n",
    "    \n",
    "Function: lambda(membrane potencial )\n",
    "V_mem = V_mem + weight * inputspike\n",
    "output V_membrane \n",
    "\n",
    "Function: delta(spike, membrane potential) \n",
    "Declare: membrane\n",
    "delta\n",
    "\n",
    "Start: \n",
    "    calculate membrane\n",
    "    print result\n",
    "End:\n",
    "\n",
    "\n",
    "Function: DTSS()\n",
    "Declaration: float values: weight, synaptic, and V_membrane_pot = 1;\n",
    "Start: \n",
    "    calculate: weight and synaptic\n",
    "    give values to other functions\n",
    "    lambda()\n",
    "    delta()\n",
    "End:\n",
    "\n",
    "\n",
    "Function: Membrane_pot2( membrane potential, synaptic, weight )\n",
    "Start:\n",
    "    Calculate: membrane potential \n",
    "    print membrane potential\n",
    "End:\n"
   ]
  },
  {
   "cell_type": "code",
   "execution_count": null,
   "id": "2c47a44d-c43d-470e-af43-936d7533a99d",
   "metadata": {},
   "outputs": [],
   "source": []
  }
 ],
 "metadata": {
  "kernelspec": {
   "display_name": "Python 3 (ipykernel)",
   "language": "python",
   "name": "python3"
  },
  "language_info": {
   "codemirror_mode": {
    "name": "ipython",
    "version": 3
   },
   "file_extension": ".py",
   "mimetype": "text/x-python",
   "name": "python",
   "nbconvert_exporter": "python",
   "pygments_lexer": "ipython3",
   "version": "3.11.5"
  }
 },
 "nbformat": 4,
 "nbformat_minor": 5
}
