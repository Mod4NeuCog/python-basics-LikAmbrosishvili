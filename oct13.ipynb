{
 "cells": [
  {
   "cell_type": "code",
   "execution_count": null,
   "id": "0d5f2bda-64bd-4daf-98ce-0af9769390a5",
   "metadata": {},
   "outputs": [],
   "source": [
    "\n",
    "## Define a function to update neuron membrane potential by 1 millivolt\n",
    "def updateMembranePotential(V_mem, inputSpike):\n",
    "    V_mem = V_mem + inputSpike\n",
    "    return(V_mem)\n",
    "\n",
    "def main():\n",
    "    ## Initialize neuron membrane potential in units milliVolts\n",
    "    V_membrane = -75\n",
    "    ## Use input function to take inputs from user\n",
    "    spike=input(\"Provide the input spike value in milliVolts\")\n",
    "    ## Convert the input to float\n",
    "    spike=int(spike)\n",
    "    ## Call the function updateMembranePotential to update neuron membrane potential \n",
    "    V_mem = updateMembranePotential(V_membrane, spike)\n",
    "    print(V_mem)\n",
    "\n",
    "# Standard boilerplate to call the main() function to begin\n",
    "# the program.\n",
    "if __name__ == '__main__':\n",
    "  main()"
   ]
  },
  {
   "cell_type": "code",
   "execution_count": null,
   "id": "7b315ca1-f8a3-4878-8176-8c839987c508",
   "metadata": {},
   "outputs": [],
   "source": [
    "class Pyramid(Neuron):\n",
    "    def __init__(seld, dendrites, axon, neurotransmitter):\n",
    "        super().__init__(\"Pyramidal Neuron\", dendrites, axon)\n",
    "        self.neurotransmitter = neurotransmitter"
   ]
  },
  {
   "cell_type": "code",
   "execution_count": null,
   "id": "c4fafcf4-da68-4be4-9a43-178a3ca5631f",
   "metadata": {},
   "outputs": [],
   "source": [
    "class Ovid(Neuron):\n",
    "    def __init__(seld, dendrites, axon, weight):\n",
    "        super().__init__(\"Ovid Neuron\", dendrites, axon)\n",
    "        self.weight = weight"
   ]
  }
 ],
 "metadata": {
  "kernelspec": {
   "display_name": "Python 3 (ipykernel)",
   "language": "python",
   "name": "python3"
  },
  "language_info": {
   "codemirror_mode": {
    "name": "ipython",
    "version": 3
   },
   "file_extension": ".py",
   "mimetype": "text/x-python",
   "name": "python",
   "nbconvert_exporter": "python",
   "pygments_lexer": "ipython3",
   "version": "3.11.5"
  }
 },
 "nbformat": 4,
 "nbformat_minor": 5
}
