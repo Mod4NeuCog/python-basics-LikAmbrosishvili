{
 "cells": [
  {
   "cell_type": "code",
   "execution_count": 1,
   "id": "8ac27a68-d827-43e9-a6ea-4acf0555046f",
   "metadata": {},
   "outputs": [
    {
     "name": "stdout",
     "output_type": "stream",
     "text": [
      "Five is greater than two!\n"
     ]
    }
   ],
   "source": [
    "if 5> 2:\n",
    "    print (\"Five is greater than two!\")"
   ]
  },
  {
   "cell_type": "code",
   "execution_count": 6,
   "id": "3b971669-9ff6-4fca-8c3f-aaae8f8c6afd",
   "metadata": {},
   "outputs": [
    {
     "ename": "SyntaxError",
     "evalue": "invalid syntax (2552308575.py, line 1)",
     "output_type": "error",
     "traceback": [
      "\u001b[0;36m  Cell \u001b[0;32mIn[6], line 1\u001b[0;36m\u001b[0m\n\u001b[0;31m    Cell in[13],line 2\u001b[0m\n\u001b[0m                     ^\u001b[0m\n\u001b[0;31mSyntaxError\u001b[0m\u001b[0;31m:\u001b[0m invalid syntax\n"
     ]
    }
   ],
   "source": [
    "Cell in[13],line 2\n",
    "print(\"Five is greater than two\")"
   ]
  },
  {
   "cell_type": "code",
   "execution_count": 18,
   "id": "c8fdb677-8f89-46d5-918d-cfd9b3437532",
   "metadata": {},
   "outputs": [
    {
     "name": "stdout",
     "output_type": "stream",
     "text": [
      "a doesn't equal to b\n"
     ]
    }
   ],
   "source": [
    "String1 = \"Python Course\"\n",
    "String1 = \"Python Course1\"\n",
    "a = 4 \n",
    "b = 5 \n",
    "if (a == b):\n",
    "    print(\"a equals b\")\n",
    "else:\n",
    "    print(\"a doesn't equal to b\")\n"
   ]
  },
  {
   "cell_type": "code",
   "execution_count": 24,
   "id": "e45e2864-91e2-4c59-82cf-d07ecab0e0f0",
   "metadata": {},
   "outputs": [
    {
     "name": "stdout",
     "output_type": "stream",
     "text": [
      "a is less than b\n"
     ]
    }
   ],
   "source": [
    "String1 = \"Python Course\"\n",
    "String1 = \"Python Course1\"\n",
    "a = 4 \n",
    "b = 5 \n",
    "if (a < b):\n",
    "    print(\"a is less than b\")\n",
    "else:\n",
    "    print(\"a isn't less than b\")"
   ]
  },
  {
   "cell_type": "code",
   "execution_count": 20,
   "id": "5eda1f4f-c36c-4b94-a9ec-8de674a6f8fc",
   "metadata": {},
   "outputs": [
    {
     "data": {
      "text/plain": [
       "True"
      ]
     },
     "execution_count": 20,
     "metadata": {},
     "output_type": "execute_result"
    }
   ],
   "source": [
    "price = 9.99\n",
    "price  > 9 and price < 10 "
   ]
  },
  {
   "cell_type": "code",
   "execution_count": 21,
   "id": "76693e5f-278a-4cbc-8b17-0ec07cb1bb65",
   "metadata": {},
   "outputs": [
    {
     "data": {
      "text/plain": [
       "True"
      ]
     },
     "execution_count": 21,
     "metadata": {},
     "output_type": "execute_result"
    }
   ],
   "source": [
    "price > 10 or price < 20"
   ]
  },
  {
   "cell_type": "code",
   "execution_count": 22,
   "id": "e4b22dbd-6d10-4f19-98b8-afee2fc018ba",
   "metadata": {},
   "outputs": [
    {
     "data": {
      "text/plain": [
       "True"
      ]
     },
     "execution_count": 22,
     "metadata": {},
     "output_type": "execute_result"
    }
   ],
   "source": [
    "not(price > 10)"
   ]
  },
  {
   "cell_type": "code",
   "execution_count": 46,
   "id": "9b54b2f3-be34-4984-873a-a35057bb017d",
   "metadata": {},
   "outputs": [
    {
     "name": "stdin",
     "output_type": "stream",
     "text": [
      "Enter your age: 12\n"
     ]
    },
    {
     "name": "stdout",
     "output_type": "stream",
     "text": [
      "You cannot vote\n"
     ]
    }
   ],
   "source": [
    "age = input('Enter your age:')\n",
    "\n",
    "if int(age) >= 18:\n",
    "    print(\"you're eligible to vote\")\n",
    "else: \n",
    "    print(\"You cannot vote\")\n",
    "\n",
    "    "
   ]
  },
  {
   "cell_type": "code",
   "execution_count": 29,
   "id": "2d4caf1a-8b05-4f6a-bb21-6202a94cdd59",
   "metadata": {},
   "outputs": [
    {
     "name": "stdout",
     "output_type": "stream",
     "text": [
      "Negative number\n",
      "This statement is always executed\n"
     ]
    }
   ],
   "source": [
    "number = -4\n",
    "\n",
    "if number > 0:\n",
    "    print(\"Positive number\")\n",
    "elif number == 0:\n",
    "    print('zero')\n",
    "else:\n",
    "    print ('Negative number')\n",
    "print('This statement is always executed')"
   ]
  },
  {
   "cell_type": "code",
   "execution_count": 49,
   "id": "f24d3a39-7008-49f0-89c6-0d733e4fd0b1",
   "metadata": {},
   "outputs": [
    {
     "name": "stdout",
     "output_type": "stream",
     "text": [
      "0\n",
      "1\n",
      "2\n",
      "3\n",
      "4\n"
     ]
    }
   ],
   "source": [
    "for index in range (5):\n",
    "    print(index)"
   ]
  },
  {
   "cell_type": "code",
   "execution_count": 50,
   "id": "8fb890d6-9970-4428-b528-7130df6f3771",
   "metadata": {},
   "outputs": [
    {
     "name": "stdout",
     "output_type": "stream",
     "text": [
      "5\n",
      "6\n",
      "7\n",
      "8\n",
      "9\n",
      "10\n",
      "11\n",
      "12\n",
      "13\n",
      "14\n"
     ]
    }
   ],
   "source": [
    "for i in range (5, 15):\n",
    "    print(i)\n",
    "    if i == 3:\n",
    "        break"
   ]
  },
  {
   "cell_type": "code",
   "execution_count": 53,
   "id": "b9aafb18-fde2-4fa8-bf03-d5d497326d14",
   "metadata": {},
   "outputs": [
    {
     "name": "stdout",
     "output_type": "stream",
     "text": [
      "0\n",
      "2\n",
      "4\n",
      "6\n",
      "8\n"
     ]
    }
   ],
   "source": [
    "for i in range (10):\n",
    "    if i %2:\n",
    "        continue\n",
    "        \n",
    "    print (i)\n",
    "\n"
   ]
  },
  {
   "cell_type": "code",
   "execution_count": 54,
   "id": "baf22819-6606-4f43-98de-943b72855ff6",
   "metadata": {},
   "outputs": [
    {
     "name": "stdout",
     "output_type": "stream",
     "text": [
      "0\n",
      "1\n",
      "2\n",
      "3\n",
      "4\n"
     ]
    }
   ],
   "source": [
    "max  = 5\n",
    "counter = 0\n",
    "while counter < max:\n",
    "    print(counter)\n",
    "    counter +=1"
   ]
  },
  {
   "cell_type": "code",
   "execution_count": 60,
   "id": "3d6775c0-d6e9-423e-8bd6-685a665c1152",
   "metadata": {},
   "outputs": [
    {
     "name": "stdout",
     "output_type": "stream",
     "text": [
      "0\n",
      "1\n",
      "1\n",
      "2\n",
      "3\n",
      "5\n",
      "8\n",
      "13\n",
      "21\n",
      "34\n",
      "55\n",
      "89\n",
      "144\n"
     ]
    }
   ],
   "source": [
    "f1 = 0\n",
    "f2 = 1\n",
    "print (f1)\n",
    "print (f2)\n",
    "for x in range (1,12):\n",
    "    f3 = f1+f2\n",
    "    print(f3)\n",
    "    f1,f2=f2,f3\n",
    "    "
   ]
  },
  {
   "cell_type": "code",
   "execution_count": 64,
   "id": "491e2335-a082-428f-983d-9d6ee8df4ebe",
   "metadata": {},
   "outputs": [
    {
     "name": "stdout",
     "output_type": "stream",
     "text": [
      "0\n",
      "1\n",
      "1\n",
      "2\n",
      "3\n",
      "5\n",
      "8\n",
      "13\n",
      "21\n",
      "34\n",
      "55\n",
      "89\n",
      "144\n"
     ]
    }
   ],
   "source": [
    "f0 = 0\n",
    "f1 = 1\n",
    "\n",
    "print (f0)\n",
    "print (f1)\n",
    "\n",
    "for n in range (0,11):\n",
    "    fn = f0+f1\n",
    "    print(fn)\n",
    "    f0, f1 = f1, fn\n"
   ]
  },
  {
   "cell_type": "code",
   "execution_count": 65,
   "id": "ece6bedd-d893-4e2f-9c18-fa104b1ada41",
   "metadata": {},
   "outputs": [
    {
     "name": "stdout",
     "output_type": "stream",
     "text": [
      "0\n",
      "1\n",
      "0\n",
      "0\n",
      "0\n",
      "0\n",
      "0\n",
      "0\n",
      "0\n",
      "0\n"
     ]
    }
   ],
   "source": []
  },
  {
   "cell_type": "code",
   "execution_count": 70,
   "id": "4ceab193-3297-406b-ba94-9351fccafafe",
   "metadata": {},
   "outputs": [
    {
     "name": "stdout",
     "output_type": "stream",
     "text": [
      "Hi John\n"
     ]
    }
   ],
   "source": [
    "def greet (name):\n",
    "    \"\"\"Display a greeting to users \"\"\"\n",
    "    return (\"Hi \" + name)\n",
    "greeting = greet(\"John\")\n",
    "print(greeting)"
   ]
  },
  {
   "cell_type": "code",
   "execution_count": null,
   "id": "0dfcadf5-129b-4fdb-a9d3-d09ee209cace",
   "metadata": {},
   "outputs": [],
   "source": []
  }
 ],
 "metadata": {
  "kernelspec": {
   "display_name": "Python 3 (ipykernel)",
   "language": "python",
   "name": "python3"
  },
  "language_info": {
   "codemirror_mode": {
    "name": "ipython",
    "version": 3
   },
   "file_extension": ".py",
   "mimetype": "text/x-python",
   "name": "python",
   "nbconvert_exporter": "python",
   "pygments_lexer": "ipython3",
   "version": "3.11.5"
  }
 },
 "nbformat": 4,
 "nbformat_minor": 5
}
